{
 "cells": [
  {
   "cell_type": "code",
   "execution_count": 6,
   "id": "fe1bbf67-f61f-47e5-8d25-d355ed0ad9ae",
   "metadata": {},
   "outputs": [
    {
     "name": "stdin",
     "output_type": "stream",
     "text": [
      "What is your name? Jackson\n"
     ]
    },
    {
     "name": "stdout",
     "output_type": "stream",
     "text": [
      "Hello, Jackson!\n"
     ]
    }
   ],
   "source": [
    "def print_welcome(name):\n",
    "    print(f'Hello, {name}!')\n",
    "name = input('What is your name?')\n",
    "print_welcome(name)"
   ]
  },
  {
   "cell_type": "code",
   "execution_count": 5,
   "id": "9bd530cf-1069-40e9-aafe-920477adc46e",
   "metadata": {},
   "outputs": [
    {
     "name": "stdin",
     "output_type": "stream",
     "text": [
      "Please input the first person's name: Jackson\n",
      "Please input the second person's name: David\n"
     ]
    },
    {
     "name": "stdout",
     "output_type": "stream",
     "text": [
      "Dear Jackson, See you next Monday. David\n"
     ]
    }
   ],
   "source": [
    "def print_conversation(first_name, second_name):\n",
    "    print(f'Dear {first_name}, See you next Monday. {second_name}')\n",
    "first_person = input(\"Please input the first person's name:\")\n",
    "second_person = input(\"Please input the second person's name:\")\n",
    "print_conversation(first_person, second_person)"
   ]
  },
  {
   "cell_type": "code",
   "execution_count": 4,
   "id": "9639ea32-fa46-4a73-a7fb-449852df0693",
   "metadata": {},
   "outputs": [
    {
     "name": "stdin",
     "output_type": "stream",
     "text": [
      "Please input the length of the base: 50\n",
      "Please input the height of the rectangle: 100\n"
     ]
    },
    {
     "name": "stdout",
     "output_type": "stream",
     "text": [
      "Area: 5000\n"
     ]
    }
   ],
   "source": [
    "def calculate_area(b, h):\n",
    "    return b*h\n",
    "base = int(input('Please input the length of the base:'))\n",
    "height = int(input('Please input the height of the rectangle:'))\n",
    "print(f'Area: {calculate_area(base, height)}')"
   ]
  },
  {
   "cell_type": "code",
   "execution_count": 7,
   "id": "17973aee-5b34-491a-a60d-9633e28a39bb",
   "metadata": {},
   "outputs": [
    {
     "name": "stdout",
     "output_type": "stream",
     "text": [
      "Hello, John!\n",
      "Hello, Ghassem!\n",
      "Dear John, See you next Monday. Ghassem\n",
      "Dear Tim, See you next Monday. Bryan\n",
      "0\n",
      "1\n",
      "1000000\n"
     ]
    }
   ],
   "source": [
    "print_welcome(\"John\")\n",
    "print_welcome(\"Ghassem\")\n",
    "print_conversation(\"John\", \"Ghassem\")\n",
    "print_conversation(\"Tim\", \"Bryan\")\n",
    "print(calculate_area(0,0))\n",
    "print(calculate_area(-1,-1))\n",
    "print(calculate_area(1000,1000))"
   ]
  },
  {
   "cell_type": "code",
   "execution_count": null,
   "id": "f1726c30-e03d-4ce5-b273-461ac6f62597",
   "metadata": {},
   "outputs": [],
   "source": []
  }
 ],
 "metadata": {
  "kernelspec": {
   "display_name": "Python 3 (ipykernel)",
   "language": "python",
   "name": "python3"
  },
  "language_info": {
   "codemirror_mode": {
    "name": "ipython",
    "version": 3
   },
   "file_extension": ".py",
   "mimetype": "text/x-python",
   "name": "python",
   "nbconvert_exporter": "python",
   "pygments_lexer": "ipython3",
   "version": "3.12.3"
  }
 },
 "nbformat": 4,
 "nbformat_minor": 5
}
