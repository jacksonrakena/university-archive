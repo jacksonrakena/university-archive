{
 "cells": [
  {
   "cell_type": "markdown",
   "id": "9e72bfe8-63ab-45a7-83ee-01a199a7f46c",
   "metadata": {},
   "source": [
    "### 1.1"
   ]
  },
  {
   "cell_type": "code",
   "execution_count": 1,
   "id": "fe1bbf67-f61f-47e5-8d25-d355ed0ad9ae",
   "metadata": {},
   "outputs": [
    {
     "name": "stdout",
     "output_type": "stream",
     "text": [
      "52 is in the range\n",
      "-1 is outside of the given range\n",
      "101 is outside of the given range\n"
     ]
    }
   ],
   "source": [
    "def check_range(number):\n",
    "    if number <= 100 and number >= 0:\n",
    "        print(f'{number} is in the range')\n",
    "    else:\n",
    "        print(f'{number} is outside of the given range')\n",
    "\n",
    "check_range(52)\n",
    "check_range(-1)\n",
    "check_range(101)"
   ]
  },
  {
   "cell_type": "markdown",
   "id": "10529eaf-031c-4fe0-a24c-25718aeaf5bb",
   "metadata": {},
   "source": [
    "### 1.2\n"
   ]
  },
  {
   "cell_type": "code",
   "execution_count": 5,
   "id": "9bd530cf-1069-40e9-aafe-920477adc46e",
   "metadata": {},
   "outputs": [
    {
     "name": "stdout",
     "output_type": "stream",
     "text": [
      "52 is in the range [0, 100]\n",
      "2 is outside of the range [0, 1]\n",
      "76.5 is outside of the range [200, 350]\n",
      "76.5 is outside of the range [200, 350]\n"
     ]
    }
   ],
   "source": [
    "def check_range(number, n1, n2):\n",
    "    if number <= n2 and number >= n1:\n",
    "        print(f'{number} is in the range [{n1}, {n2}]')\n",
    "    else:\n",
    "        print(f'{number} is outside of the range [{n1}, {n2}]')\n",
    "\n",
    "check_range(52, 0, 100)\n",
    "check_range(2,n1=0,n2=1)\n",
    "check_range(number=76.5, n1=200, n2=350)\n",
    "check_range(76.5, 200, 350)"
   ]
  },
  {
   "cell_type": "markdown",
   "id": "4b896674-6a4c-45ea-99e3-d82e3185e215",
   "metadata": {},
   "source": [
    "### 2.1"
   ]
  },
  {
   "cell_type": "code",
   "execution_count": 6,
   "id": "9639ea32-fa46-4a73-a7fb-449852df0693",
   "metadata": {},
   "outputs": [
    {
     "name": "stdin",
     "output_type": "stream",
     "text": [
      "Please input the hourly pay rate: 28.70\n",
      "Please input the number of hours this week: 65\n"
     ]
    },
    {
     "name": "stdout",
     "output_type": "stream",
     "text": [
      "Warning! You should rest.\n",
      "Your weekly payment: $2583.0\n"
     ]
    },
    {
     "name": "stdin",
     "output_type": "stream",
     "text": [
      "Please input the hourly pay rate: 32.55\n",
      "Please input the number of hours this week: 38\n"
     ]
    },
    {
     "name": "stdout",
     "output_type": "stream",
     "text": [
      "Your weekly payment: $1236.8999999999999\n"
     ]
    },
    {
     "name": "stdin",
     "output_type": "stream",
     "text": [
      "Please input the hourly pay rate: 53\n",
      "Please input the number of hours this week: 109\n"
     ]
    },
    {
     "name": "stdout",
     "output_type": "stream",
     "text": [
      "Warning! You should rest.\n",
      "Your weekly payment: $9434.0\n"
     ]
    }
   ],
   "source": [
    "def compute_weekly():\n",
    "    hourly_rate = float(input('Please input the hourly pay rate:'))\n",
    "    n_hours = int(input('Please input the number of hours this week:'))\n",
    "    if n_hours > 50:\n",
    "        print('Warning! You should rest.')\n",
    "\n",
    "    n_overtime_hours = max(n_hours - 40, 0)\n",
    "    n_normal_hours = min(n_hours, 40)\n",
    "    \n",
    "    n_payment = (hourly_rate * n_normal_hours) + (n_overtime_hours * hourly_rate * 2)\n",
    "    print(f'Your weekly payment: ${n_payment}')\n",
    "\n",
    "compute_weekly()\n",
    "compute_weekly()\n",
    "compute_weekly()"
   ]
  },
  {
   "cell_type": "markdown",
   "id": "90910371-f61e-4fd0-8a1a-ae6d46dca73c",
   "metadata": {},
   "source": [
    "### 2.2"
   ]
  },
  {
   "cell_type": "code",
   "execution_count": 8,
   "id": "17973aee-5b34-491a-a60d-9633e28a39bb",
   "metadata": {},
   "outputs": [
    {
     "name": "stdout",
     "output_type": "stream",
     "text": [
      "Heads\n",
      "Tails\n",
      "Heads\n",
      "Tails\n"
     ]
    }
   ],
   "source": [
    "import random\n",
    "def flip():\n",
    "    if random.randrange(2) == 0:\n",
    "        print('Heads')\n",
    "    else:\n",
    "        print('Tails')\n",
    "\n",
    "flip()\n",
    "flip()\n",
    "flip()\n",
    "flip()"
   ]
  },
  {
   "cell_type": "markdown",
   "id": "dee7f515-3b2e-43e3-9793-a8d9b37ac7b1",
   "metadata": {},
   "source": [
    "### 2.3"
   ]
  },
  {
   "cell_type": "code",
   "execution_count": 17,
   "id": "2d5ff07c-0735-4488-9a63-a50444a09d65",
   "metadata": {},
   "outputs": [
    {
     "name": "stdin",
     "output_type": "stream",
     "text": [
      "Please guess number: 2\n"
     ]
    },
    {
     "name": "stdout",
     "output_type": "stream",
     "text": [
      "Too low!\n",
      "The number: 6\n"
     ]
    },
    {
     "name": "stdin",
     "output_type": "stream",
     "text": [
      "Please guess number: 3\n"
     ]
    },
    {
     "name": "stdout",
     "output_type": "stream",
     "text": [
      "Too low!\n",
      "The number: 4\n"
     ]
    },
    {
     "name": "stdin",
     "output_type": "stream",
     "text": [
      "Please guess number: 9\n"
     ]
    },
    {
     "name": "stdout",
     "output_type": "stream",
     "text": [
      "Too high!\n",
      "The number: 8\n"
     ]
    }
   ],
   "source": [
    "def play_game():\n",
    "    random_number = random.randrange(1, 10)\n",
    "    \n",
    "    guess = int(input('Please guess number:'))\n",
    "    if guess > random_number:\n",
    "        print('Too high!')\n",
    "    elif guess < random_number:\n",
    "        print('Too low!')\n",
    "    else:\n",
    "        print('Exactly right!')\n",
    "    print(f'The number: {random_number}')\n",
    "\n",
    "play_game()\n",
    "play_game()\n",
    "play_game()\n"
   ]
  },
  {
   "cell_type": "markdown",
   "id": "3b6f7d02-f67e-412d-8887-e24037755961",
   "metadata": {},
   "source": [
    "### 3.1"
   ]
  },
  {
   "cell_type": "code",
   "execution_count": 19,
   "id": "20b7de5e-270a-434e-8a22-ecb4a885a1cb",
   "metadata": {},
   "outputs": [
    {
     "name": "stdout",
     "output_type": "stream",
     "text": [
      "Sum of numbers 1-100: 5050\n"
     ]
    }
   ],
   "source": [
    "s = 0\n",
    "for x in range(1,101):\n",
    "    s += x\n",
    "print(f'Sum of numbers 1-100: {s}')"
   ]
  },
  {
   "cell_type": "markdown",
   "id": "a6849e2c-3cbe-442e-8ea3-a867da2e7912",
   "metadata": {},
   "source": [
    "### 3.2"
   ]
  },
  {
   "cell_type": "code",
   "execution_count": 23,
   "id": "f76565b6-262c-480d-b39e-937a385ba242",
   "metadata": {},
   "outputs": [
    {
     "name": "stdout",
     "output_type": "stream",
     "text": [
      "1,2,Fizz,4,Buzz,Fizz,7,8,Fizz,Buzz,11,Fizz,13,14,FizzBuzz,16,17,Fizz,19,Buzz,Fizz,22,23,Fizz,Buzz,26,Fizz,28,29,FizzBuzz,"
     ]
    }
   ],
   "source": [
    "for x in range(1,31):\n",
    "    mult_3 = x % 3 == 0\n",
    "    mult_5 = x % 5 == 0\n",
    "    if mult_3 and mult_5:\n",
    "        print('FizzBuzz,',end='')\n",
    "    elif mult_3:\n",
    "        print('Fizz,',end='')\n",
    "    elif mult_5:\n",
    "        print('Buzz,',end='')\n",
    "    else:\n",
    "        print(f'{x},',end='')"
   ]
  },
  {
   "cell_type": "markdown",
   "id": "7928e1ba-e6b1-46b0-b180-ddd909947a9e",
   "metadata": {},
   "source": [
    "### 4.1"
   ]
  },
  {
   "cell_type": "code",
   "execution_count": 26,
   "id": "b892d0eb-3d1a-42f7-b49d-04ab1f0bd80b",
   "metadata": {},
   "outputs": [
    {
     "name": "stdout",
     "output_type": "stream",
     "text": [
      "MJ\n",
      "JR\n",
      "BD\n"
     ]
    }
   ],
   "source": [
    "def find_initials(first_name, last_name):\n",
    "    return f'{first_name[0]}{last_name[0]}'\n",
    "\n",
    "print(find_initials('Michael', 'Jackson'))\n",
    "print(find_initials('Jackson', 'Rakena'))\n",
    "print(find_initials('Bob', 'Dole'))"
   ]
  },
  {
   "cell_type": "markdown",
   "id": "73fb1c75-4293-4f06-b606-2539f8350f45",
   "metadata": {},
   "source": [
    "### 4.2"
   ]
  },
  {
   "cell_type": "code",
   "execution_count": 42,
   "id": "b595fdc3-5f42-4fbc-a438-e1b7d3f9ff34",
   "metadata": {},
   "outputs": [
    {
     "name": "stdout",
     "output_type": "stream",
     "text": [
      "Uppercase: 10, Lowercase: 35\n",
      "Uppercase: 27, Lowercase: 20\n",
      "Uppercase: 8, Lowercase: 43\n"
     ]
    }
   ],
   "source": [
    "def print_string_info(string):\n",
    "    upper_n = 0\n",
    "    lower_n = 0\n",
    "    for char in string:\n",
    "        if char.isupper():\n",
    "            upper_n += 1\n",
    "        elif char.islower():\n",
    "            lower_n += 1\n",
    "    print(f'Uppercase: {upper_n}, Lowercase: {lower_n}')\n",
    "\n",
    "print_string_info('UV HiuhnfvusfevhauionhIUsnhefiosE7Fsnhe9fSE8Fh9378hfv%!&#*(%')\n",
    "print_string_info('sdfUIHSuhuihFIUHifbwUNNASDHDD87DGF(DSH^**RQ#TR^&*#@gsndfign')\n",
    "print_string_info('jn usiadhfnaiusdfhasioudfhaeniuavsehifuOHF &SYF(*Snyfhv*S&#')"
   ]
  },
  {
   "cell_type": "markdown",
   "id": "86a0a6b0-8705-4a21-8a6c-858b89b3ec87",
   "metadata": {},
   "source": [
    "### 4.3"
   ]
  },
  {
   "cell_type": "code",
   "execution_count": 41,
   "id": "86cb8905-11d3-4ea0-b243-0a5361663eb6",
   "metadata": {},
   "outputs": [
    {
     "name": "stdout",
     "output_type": "stream",
     "text": [
      "Not palindrome\n",
      "Palindrome\n"
     ]
    }
   ],
   "source": [
    "def is_palindrome(string):\n",
    "    if string.lower().replace(\" \", \"\") == string[::-1].lower().replace(\" \", \"\"):\n",
    "        print('Palindrome')\n",
    "    else:\n",
    "        print('Not palindrome')\n",
    "\n",
    "is_palindrome('hello')\n",
    "is_palindrome('Rise to vote sir')"
   ]
  },
  {
   "cell_type": "markdown",
   "id": "4e732642-2b2b-429c-964d-1668c3466a85",
   "metadata": {},
   "source": [
    "### 5.1"
   ]
  },
  {
   "cell_type": "code",
   "execution_count": 2,
   "id": "13ad97c9-f5e3-47aa-9db2-b1fa00665d91",
   "metadata": {},
   "outputs": [
    {
     "name": "stdout",
     "output_type": "stream",
     "text": [
      "First: Green, last: White\n"
     ]
    }
   ],
   "source": [
    "def print_extremes(the_list):\n",
    "    if the_list.__len__() == 0:\n",
    "        print('No elements in list')\n",
    "    print(f'First: {the_list[0]}, last: {the_list[the_list.__len__()-1]}')\n",
    "\n",
    "print_extremes(['Green', 'Black', 'Red', 'White'])"
   ]
  },
  {
   "cell_type": "markdown",
   "id": "40ed385c-1ecb-4d59-9046-6de612e6ed24",
   "metadata": {},
   "source": [
    "### 5.2\n"
   ]
  },
  {
   "cell_type": "code",
   "execution_count": 53,
   "id": "93eca13e-6806-4b2e-b2ef-a485cf521568",
   "metadata": {},
   "outputs": [
    {
     "name": "stdin",
     "output_type": "stream",
     "text": [
      "Please input all scores of assignments and exam: 90,85,65,90,80,85\n"
     ]
    },
    {
     "name": "stdout",
     "output_type": "stream",
     "text": [
      "Your total score: %83.25\n"
     ]
    }
   ],
   "source": [
    "def compute_weighted_sum():\n",
    "    data_raw = input('Please input all scores of assignments and exam:')\n",
    "    data_split = data_raw.split(',')\n",
    "    if data_split.__len__() != 6:\n",
    "        print('Invalid data.')\n",
    "        return\n",
    "    for d in data_split:\n",
    "        try:\n",
    "            float(d)\n",
    "        except ValueError:\n",
    "            print('Invalid number.')\n",
    "            return\n",
    "\n",
    "    w_sum = (0.1 * float(data_split[0])) + (0.1 * float(data_split[1])) + (0.1 * float(data_split[2])) + (0.15 * float(data_split[3])) + (0.20 * float(data_split[4])) + (0.35 * float(data_split[5]))\n",
    "\n",
    "    print(f'Your total score: %{w_sum}')\n",
    "\n",
    "compute_weighted_sum()"
   ]
  },
  {
   "cell_type": "markdown",
   "id": "d6ba1da2-146a-411d-81cb-9e898bba675a",
   "metadata": {},
   "source": [
    "### 5.3"
   ]
  },
  {
   "cell_type": "code",
   "execution_count": 56,
   "id": "25eaedab-0eed-4738-97c0-c60f32d733f1",
   "metadata": {},
   "outputs": [
    {
     "name": "stdout",
     "output_type": "stream",
     "text": [
      "te: 2\n",
      "ty: 1\n",
      "may: 1\n",
      "ta: 3\n"
     ]
    }
   ],
   "source": [
    "def find_frequencies(elements):\n",
    "    for classes in set(elements):\n",
    "        frequency = 0\n",
    "        for element in elements:\n",
    "            if element == classes:\n",
    "                frequency += 1\n",
    "        print(f'{classes}: {frequency}')\n",
    "\n",
    "find_frequencies(['ta', 'te', 'ta', 'ty', 'ta', 'te', 'may'])"
   ]
  },
  {
   "cell_type": "code",
   "execution_count": null,
   "id": "c23377ed-1f45-4263-87ef-e6e2b9aa3d54",
   "metadata": {},
   "outputs": [],
   "source": []
  }
 ],
 "metadata": {
  "kernelspec": {
   "display_name": "Python 3 (ipykernel)",
   "language": "python",
   "name": "python3"
  },
  "language_info": {
   "codemirror_mode": {
    "name": "ipython",
    "version": 3
   },
   "file_extension": ".py",
   "mimetype": "text/x-python",
   "name": "python",
   "nbconvert_exporter": "python",
   "pygments_lexer": "ipython3",
   "version": "3.12.3"
  }
 },
 "nbformat": 4,
 "nbformat_minor": 5
}
